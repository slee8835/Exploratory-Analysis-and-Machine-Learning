{
 "cells": [
  {
   "cell_type": "code",
   "execution_count": 49,
   "metadata": {},
   "outputs": [],
   "source": [
    "import numpy as np\n",
    "import pandas as pd      # built on top of numpy\n",
    "import matplotlib as mpl\n",
    "import matplotlib.pyplot as plt\n",
    "import seaborn as sns    # built on top of matplotlib\n",
    "from pandas.api.types import CategoricalDtype # enables specifying categorical agetype below\n",
    "\n",
    "from sklearn.preprocessing import Imputer, MinMaxScaler\n",
    "from sklearn.svm import SVC\n",
    "from sklearn.metrics import confusion_matrix, accuracy_score, classification_report, roc_curve, auc\n",
    "from sklearn.model_selection import train_test_split, GridSearchCV, cross_val_score\n",
    "#import sklearn.metrics as skm"
   ]
  },
  {
   "cell_type": "code",
   "execution_count": 50,
   "metadata": {
    "scrolled": true
   },
   "outputs": [],
   "source": [
    "df = pd.read_csv(\"diabetes_explore2.csv\")"
   ]
  },
  {
   "cell_type": "code",
   "execution_count": 52,
   "metadata": {},
   "outputs": [
    {
     "name": "stdout",
     "output_type": "stream",
     "text": [
      "   preg  plas  pres  skin  insu  mass   pedi  age  class age_level\n",
      "0     6   148    72    35     0  33.6  0.627   50      1       50s\n",
      "1     1    85    66    29     0  26.6  0.351   31      0       30s\n",
      "2     8   183    64     0     0  23.3  0.672   32      1       30s\n",
      "3     1    89    66    23    94  28.1  0.167   21      0       20s\n",
      "4     0   137    40    35   168  43.1  2.288   33      1       30s\n"
     ]
    }
   ],
   "source": [
    "print(df.head())   "
   ]
  },
  {
   "cell_type": "code",
   "execution_count": 53,
   "metadata": {},
   "outputs": [
    {
     "name": "stdout",
     "output_type": "stream",
     "text": [
      "<class 'pandas.core.frame.DataFrame'>\n",
      "RangeIndex: 768 entries, 0 to 767\n",
      "Data columns (total 10 columns):\n",
      "preg         768 non-null int64\n",
      "plas         768 non-null int64\n",
      "pres         768 non-null int64\n",
      "skin         768 non-null int64\n",
      "insu         768 non-null int64\n",
      "mass         768 non-null float64\n",
      "pedi         768 non-null float64\n",
      "age          768 non-null int64\n",
      "class        768 non-null int64\n",
      "age_level    768 non-null object\n",
      "dtypes: float64(2), int64(7), object(1)\n",
      "memory usage: 60.1+ KB\n"
     ]
    }
   ],
   "source": [
    "df.info() "
   ]
  },
  {
   "cell_type": "code",
   "execution_count": 54,
   "metadata": {},
   "outputs": [
    {
     "data": {
      "text/html": [
       "<div>\n",
       "<style scoped>\n",
       "    .dataframe tbody tr th:only-of-type {\n",
       "        vertical-align: middle;\n",
       "    }\n",
       "\n",
       "    .dataframe tbody tr th {\n",
       "        vertical-align: top;\n",
       "    }\n",
       "\n",
       "    .dataframe thead th {\n",
       "        text-align: right;\n",
       "    }\n",
       "</style>\n",
       "<table border=\"1\" class=\"dataframe\">\n",
       "  <thead>\n",
       "    <tr style=\"text-align: right;\">\n",
       "      <th></th>\n",
       "      <th>preg</th>\n",
       "      <th>plas</th>\n",
       "      <th>pres</th>\n",
       "      <th>skin</th>\n",
       "      <th>insu</th>\n",
       "      <th>mass</th>\n",
       "      <th>pedi</th>\n",
       "      <th>age</th>\n",
       "      <th>class</th>\n",
       "    </tr>\n",
       "  </thead>\n",
       "  <tbody>\n",
       "    <tr>\n",
       "      <td>count</td>\n",
       "      <td>768.000000</td>\n",
       "      <td>768.000000</td>\n",
       "      <td>768.000000</td>\n",
       "      <td>768.000000</td>\n",
       "      <td>768.000000</td>\n",
       "      <td>768.000000</td>\n",
       "      <td>768.000000</td>\n",
       "      <td>768.000000</td>\n",
       "      <td>768.000000</td>\n",
       "    </tr>\n",
       "    <tr>\n",
       "      <td>mean</td>\n",
       "      <td>3.845052</td>\n",
       "      <td>120.894531</td>\n",
       "      <td>69.105469</td>\n",
       "      <td>20.536458</td>\n",
       "      <td>79.799479</td>\n",
       "      <td>31.992578</td>\n",
       "      <td>0.471876</td>\n",
       "      <td>33.240885</td>\n",
       "      <td>0.348958</td>\n",
       "    </tr>\n",
       "    <tr>\n",
       "      <td>std</td>\n",
       "      <td>3.369578</td>\n",
       "      <td>31.972618</td>\n",
       "      <td>19.355807</td>\n",
       "      <td>15.952218</td>\n",
       "      <td>115.244002</td>\n",
       "      <td>7.884160</td>\n",
       "      <td>0.331329</td>\n",
       "      <td>11.760232</td>\n",
       "      <td>0.476951</td>\n",
       "    </tr>\n",
       "    <tr>\n",
       "      <td>min</td>\n",
       "      <td>0.000000</td>\n",
       "      <td>0.000000</td>\n",
       "      <td>0.000000</td>\n",
       "      <td>0.000000</td>\n",
       "      <td>0.000000</td>\n",
       "      <td>0.000000</td>\n",
       "      <td>0.078000</td>\n",
       "      <td>21.000000</td>\n",
       "      <td>0.000000</td>\n",
       "    </tr>\n",
       "    <tr>\n",
       "      <td>25%</td>\n",
       "      <td>1.000000</td>\n",
       "      <td>99.000000</td>\n",
       "      <td>62.000000</td>\n",
       "      <td>0.000000</td>\n",
       "      <td>0.000000</td>\n",
       "      <td>27.300000</td>\n",
       "      <td>0.243750</td>\n",
       "      <td>24.000000</td>\n",
       "      <td>0.000000</td>\n",
       "    </tr>\n",
       "    <tr>\n",
       "      <td>50%</td>\n",
       "      <td>3.000000</td>\n",
       "      <td>117.000000</td>\n",
       "      <td>72.000000</td>\n",
       "      <td>23.000000</td>\n",
       "      <td>30.500000</td>\n",
       "      <td>32.000000</td>\n",
       "      <td>0.372500</td>\n",
       "      <td>29.000000</td>\n",
       "      <td>0.000000</td>\n",
       "    </tr>\n",
       "    <tr>\n",
       "      <td>75%</td>\n",
       "      <td>6.000000</td>\n",
       "      <td>140.250000</td>\n",
       "      <td>80.000000</td>\n",
       "      <td>32.000000</td>\n",
       "      <td>127.250000</td>\n",
       "      <td>36.600000</td>\n",
       "      <td>0.626250</td>\n",
       "      <td>41.000000</td>\n",
       "      <td>1.000000</td>\n",
       "    </tr>\n",
       "    <tr>\n",
       "      <td>max</td>\n",
       "      <td>17.000000</td>\n",
       "      <td>199.000000</td>\n",
       "      <td>122.000000</td>\n",
       "      <td>99.000000</td>\n",
       "      <td>846.000000</td>\n",
       "      <td>67.100000</td>\n",
       "      <td>2.420000</td>\n",
       "      <td>81.000000</td>\n",
       "      <td>1.000000</td>\n",
       "    </tr>\n",
       "  </tbody>\n",
       "</table>\n",
       "</div>"
      ],
      "text/plain": [
       "             preg        plas        pres        skin        insu        mass  \\\n",
       "count  768.000000  768.000000  768.000000  768.000000  768.000000  768.000000   \n",
       "mean     3.845052  120.894531   69.105469   20.536458   79.799479   31.992578   \n",
       "std      3.369578   31.972618   19.355807   15.952218  115.244002    7.884160   \n",
       "min      0.000000    0.000000    0.000000    0.000000    0.000000    0.000000   \n",
       "25%      1.000000   99.000000   62.000000    0.000000    0.000000   27.300000   \n",
       "50%      3.000000  117.000000   72.000000   23.000000   30.500000   32.000000   \n",
       "75%      6.000000  140.250000   80.000000   32.000000  127.250000   36.600000   \n",
       "max     17.000000  199.000000  122.000000   99.000000  846.000000   67.100000   \n",
       "\n",
       "             pedi         age       class  \n",
       "count  768.000000  768.000000  768.000000  \n",
       "mean     0.471876   33.240885    0.348958  \n",
       "std      0.331329   11.760232    0.476951  \n",
       "min      0.078000   21.000000    0.000000  \n",
       "25%      0.243750   24.000000    0.000000  \n",
       "50%      0.372500   29.000000    0.000000  \n",
       "75%      0.626250   41.000000    1.000000  \n",
       "max      2.420000   81.000000    1.000000  "
      ]
     },
     "execution_count": 54,
     "metadata": {},
     "output_type": "execute_result"
    }
   ],
   "source": [
    "df.describe() #display mean, std, min, max"
   ]
  },
  {
   "cell_type": "code",
   "execution_count": 55,
   "metadata": {},
   "outputs": [
    {
     "data": {
      "text/plain": [
       "20s    396\n",
       "30s    165\n",
       "40s    118\n",
       "50s     57\n",
       "60+     32\n",
       "Name: age_level, dtype: int64"
      ]
     },
     "execution_count": 55,
     "metadata": {},
     "output_type": "execute_result"
    }
   ],
   "source": [
    "df.age_level.value_counts()"
   ]
  },
  {
   "cell_type": "code",
   "execution_count": 56,
   "metadata": {},
   "outputs": [],
   "source": [
    "df2 = df.copy(deep=True)\n",
    "df2['plas']= df['plas'].replace(0,np.NaN)\n",
    "df2['pres'] = df['pres'].replace(0,np.NaN)\n",
    "df2['skin'] = df['skin'].replace(0,np.NaN)\n",
    "df2['insu'] = df['insu'].replace(0, np.NaN)\n",
    "df2['mass'] = df['mass'].replace(0, np.NaN)"
   ]
  },
  {
   "cell_type": "code",
   "execution_count": 58,
   "metadata": {},
   "outputs": [
    {
     "name": "stdout",
     "output_type": "stream",
     "text": [
      "5 NAs in plas\n",
      "35 NAs in pres\n",
      "227 NAs in skin\n",
      "374 NAs in insu\n",
      "5 NAs in mass\n"
     ]
    }
   ],
   "source": [
    "##count how many NAs are in each column\n",
    "plas_na = np.isnan(df2['plas']).sum()\n",
    "print(plas_na , \"NAs in plas\")\n",
    "pres_na = np.isnan(df2['pres']).sum()\n",
    "print(pres_na , \"NAs in pres\")\n",
    "skin_na = np.isnan(df2['skin']).sum()\n",
    "print(skin_na , \"NAs in skin\")\n",
    "insu_na = np.isnan(df2['insu']).sum()\n",
    "print(insu_na , \"NAs in insu\")\n",
    "mass_na = np.isnan(df2['mass']).sum()\n",
    "print(plas_na , \"NAs in mass\")"
   ]
  },
  {
   "cell_type": "code",
   "execution_count": 9,
   "metadata": {},
   "outputs": [
    {
     "name": "stdout",
     "output_type": "stream",
     "text": [
      "<class 'pandas.core.frame.DataFrame'>\n",
      "RangeIndex: 768 entries, 0 to 767\n",
      "Data columns (total 10 columns):\n",
      "preg         768 non-null int64\n",
      "plas         763 non-null float64\n",
      "pres         733 non-null float64\n",
      "skin         541 non-null float64\n",
      "insu         394 non-null float64\n",
      "mass         757 non-null float64\n",
      "pedi         768 non-null float64\n",
      "age          768 non-null int64\n",
      "class        768 non-null int64\n",
      "age_level    768 non-null object\n",
      "dtypes: float64(6), int64(3), object(1)\n",
      "memory usage: 60.1+ KB\n",
      "None\n"
     ]
    }
   ],
   "source": [
    "print (df2.info())  #int has been changed to float bc of NaN substitutions "
   ]
  },
  {
   "cell_type": "code",
   "execution_count": 59,
   "metadata": {},
   "outputs": [
    {
     "name": "stdout",
     "output_type": "stream",
     "text": [
      "preg       3.0000\n",
      "plas     117.0000\n",
      "pres      72.0000\n",
      "skin      29.0000\n",
      "insu     125.0000\n",
      "mass      32.3000\n",
      "pedi       0.3725\n",
      "age       29.0000\n",
      "class      0.0000\n",
      "dtype: float64\n"
     ]
    }
   ],
   "source": [
    "print (df2.median()) #calculate medians to compare with means"
   ]
  },
  {
   "cell_type": "code",
   "execution_count": 78,
   "metadata": {
    "scrolled": true
   },
   "outputs": [
    {
     "data": {
      "text/html": [
       "<div>\n",
       "<style scoped>\n",
       "    .dataframe tbody tr th:only-of-type {\n",
       "        vertical-align: middle;\n",
       "    }\n",
       "\n",
       "    .dataframe tbody tr th {\n",
       "        vertical-align: top;\n",
       "    }\n",
       "\n",
       "    .dataframe thead th {\n",
       "        text-align: right;\n",
       "    }\n",
       "</style>\n",
       "<table border=\"1\" class=\"dataframe\">\n",
       "  <thead>\n",
       "    <tr style=\"text-align: right;\">\n",
       "      <th></th>\n",
       "      <th>preg</th>\n",
       "      <th>plas</th>\n",
       "      <th>pres</th>\n",
       "      <th>skin</th>\n",
       "      <th>insu</th>\n",
       "      <th>mass</th>\n",
       "      <th>pedi</th>\n",
       "      <th>age</th>\n",
       "      <th>class</th>\n",
       "    </tr>\n",
       "  </thead>\n",
       "  <tbody>\n",
       "    <tr>\n",
       "      <td>count</td>\n",
       "      <td>768.000000</td>\n",
       "      <td>763.000000</td>\n",
       "      <td>733.000000</td>\n",
       "      <td>541.000000</td>\n",
       "      <td>394.000000</td>\n",
       "      <td>757.000000</td>\n",
       "      <td>768.000000</td>\n",
       "      <td>768.000000</td>\n",
       "      <td>768.000000</td>\n",
       "    </tr>\n",
       "    <tr>\n",
       "      <td>mean</td>\n",
       "      <td>3.845052</td>\n",
       "      <td>121.686763</td>\n",
       "      <td>72.405184</td>\n",
       "      <td>29.153420</td>\n",
       "      <td>155.548223</td>\n",
       "      <td>32.457464</td>\n",
       "      <td>0.471876</td>\n",
       "      <td>33.240885</td>\n",
       "      <td>0.348958</td>\n",
       "    </tr>\n",
       "    <tr>\n",
       "      <td>std</td>\n",
       "      <td>3.369578</td>\n",
       "      <td>30.535641</td>\n",
       "      <td>12.382158</td>\n",
       "      <td>10.476982</td>\n",
       "      <td>118.775855</td>\n",
       "      <td>6.924988</td>\n",
       "      <td>0.331329</td>\n",
       "      <td>11.760232</td>\n",
       "      <td>0.476951</td>\n",
       "    </tr>\n",
       "    <tr>\n",
       "      <td>min</td>\n",
       "      <td>0.000000</td>\n",
       "      <td>44.000000</td>\n",
       "      <td>24.000000</td>\n",
       "      <td>7.000000</td>\n",
       "      <td>14.000000</td>\n",
       "      <td>18.200000</td>\n",
       "      <td>0.078000</td>\n",
       "      <td>21.000000</td>\n",
       "      <td>0.000000</td>\n",
       "    </tr>\n",
       "    <tr>\n",
       "      <td>25%</td>\n",
       "      <td>1.000000</td>\n",
       "      <td>99.000000</td>\n",
       "      <td>64.000000</td>\n",
       "      <td>22.000000</td>\n",
       "      <td>76.250000</td>\n",
       "      <td>27.500000</td>\n",
       "      <td>0.243750</td>\n",
       "      <td>24.000000</td>\n",
       "      <td>0.000000</td>\n",
       "    </tr>\n",
       "    <tr>\n",
       "      <td>50%</td>\n",
       "      <td>3.000000</td>\n",
       "      <td>117.000000</td>\n",
       "      <td>72.000000</td>\n",
       "      <td>29.000000</td>\n",
       "      <td>125.000000</td>\n",
       "      <td>32.300000</td>\n",
       "      <td>0.372500</td>\n",
       "      <td>29.000000</td>\n",
       "      <td>0.000000</td>\n",
       "    </tr>\n",
       "    <tr>\n",
       "      <td>75%</td>\n",
       "      <td>6.000000</td>\n",
       "      <td>141.000000</td>\n",
       "      <td>80.000000</td>\n",
       "      <td>36.000000</td>\n",
       "      <td>190.000000</td>\n",
       "      <td>36.600000</td>\n",
       "      <td>0.626250</td>\n",
       "      <td>41.000000</td>\n",
       "      <td>1.000000</td>\n",
       "    </tr>\n",
       "    <tr>\n",
       "      <td>max</td>\n",
       "      <td>17.000000</td>\n",
       "      <td>199.000000</td>\n",
       "      <td>122.000000</td>\n",
       "      <td>99.000000</td>\n",
       "      <td>846.000000</td>\n",
       "      <td>67.100000</td>\n",
       "      <td>2.420000</td>\n",
       "      <td>81.000000</td>\n",
       "      <td>1.000000</td>\n",
       "    </tr>\n",
       "  </tbody>\n",
       "</table>\n",
       "</div>"
      ],
      "text/plain": [
       "             preg        plas        pres        skin        insu        mass  \\\n",
       "count  768.000000  763.000000  733.000000  541.000000  394.000000  757.000000   \n",
       "mean     3.845052  121.686763   72.405184   29.153420  155.548223   32.457464   \n",
       "std      3.369578   30.535641   12.382158   10.476982  118.775855    6.924988   \n",
       "min      0.000000   44.000000   24.000000    7.000000   14.000000   18.200000   \n",
       "25%      1.000000   99.000000   64.000000   22.000000   76.250000   27.500000   \n",
       "50%      3.000000  117.000000   72.000000   29.000000  125.000000   32.300000   \n",
       "75%      6.000000  141.000000   80.000000   36.000000  190.000000   36.600000   \n",
       "max     17.000000  199.000000  122.000000   99.000000  846.000000   67.100000   \n",
       "\n",
       "             pedi         age       class  \n",
       "count  768.000000  768.000000  768.000000  \n",
       "mean     0.471876   33.240885    0.348958  \n",
       "std      0.331329   11.760232    0.476951  \n",
       "min      0.078000   21.000000    0.000000  \n",
       "25%      0.243750   24.000000    0.000000  \n",
       "50%      0.372500   29.000000    0.000000  \n",
       "75%      0.626250   41.000000    1.000000  \n",
       "max      2.420000   81.000000    1.000000  "
      ]
     },
     "execution_count": 78,
     "metadata": {},
     "output_type": "execute_result"
    }
   ],
   "source": [
    "#print (df2.apply(np.nanmedian, axis = 0)) #calculate medians to compare with means\n",
    "df2.describe() # shows means and medians"
   ]
  },
  {
   "cell_type": "code",
   "execution_count": 79,
   "metadata": {},
   "outputs": [
    {
     "name": "stdout",
     "output_type": "stream",
     "text": [
      "     preg   plas  pres  skin  mass   pedi  age\n",
      "0       6  148.0  72.0  35.0  33.6  0.627   50\n",
      "1       1   85.0  66.0  29.0  26.6  0.351   31\n",
      "2       8  183.0  64.0   NaN  23.3  0.672   32\n",
      "3       1   89.0  66.0  23.0  28.1  0.167   21\n",
      "4       0  137.0  40.0  35.0  43.1  2.288   33\n",
      "..    ...    ...   ...   ...   ...    ...  ...\n",
      "763    10  101.0  76.0  48.0  32.9  0.171   63\n",
      "764     2  122.0  70.0  27.0  36.8  0.340   27\n",
      "765     5  121.0  72.0  23.0  26.2  0.245   30\n",
      "766     1  126.0  60.0   NaN  30.1  0.349   47\n",
      "767     1   93.0  70.0  31.0  30.4  0.315   23\n",
      "\n",
      "[768 rows x 7 columns]\n",
      "0      1\n",
      "1      0\n",
      "2      1\n",
      "3      0\n",
      "4      1\n",
      "      ..\n",
      "763    0\n",
      "764    0\n",
      "765    0\n",
      "766    1\n",
      "767    0\n",
      "Name: class, Length: 768, dtype: int64\n",
      "[1 0]\n"
     ]
    },
    {
     "data": {
      "text/plain": [
       "array(['preg', 'plas', 'pres', 'skin', 'mass', 'pedi', 'age'],\n",
       "      dtype=object)"
      ]
     },
     "execution_count": 79,
     "metadata": {},
     "output_type": "execute_result"
    }
   ],
   "source": [
    "#predicting class\n",
    "#dropping age level because ML can't take categorical variables and we already have age \n",
    "#as one of the variables \n",
    "X = df2.drop(labels=['class', 'age_level', 'insu'], axis=1)\n",
    "print (X)\n",
    "y = df2.loc[:,'class'] \n",
    "print (y)\n",
    "print (y.unique())\n",
    "X_col_names = X.columns.values\n",
    "X_col_names"
   ]
  },
  {
   "cell_type": "code",
   "execution_count": 80,
   "metadata": {},
   "outputs": [
    {
     "name": "stdout",
     "output_type": "stream",
     "text": [
      "     preg   plas  pres  skin  mass   pedi  age\n",
      "216     5  109.0  62.0  41.0  35.8  0.514   25\n",
      "556     1   97.0  70.0  40.0  38.1  0.218   30\n",
      "540     8  100.0  74.0  40.0  39.4  0.661   43\n",
      "697     0   99.0   NaN   NaN  25.0  0.253   22\n",
      "340     1  130.0  70.0  13.0  25.9  0.472   22\n",
      "..    ...    ...   ...   ...   ...    ...  ...\n",
      "721     1  114.0  66.0  36.0  38.1  0.289   21\n",
      "326     1  122.0  64.0  32.0  35.1  0.692   30\n",
      "712    10  129.0  62.0  36.0  41.2  0.441   38\n",
      "137     0   93.0  60.0  25.0  28.7  0.532   22\n",
      "645     2  157.0  74.0  35.0  39.4  0.134   30\n",
      "\n",
      "[537 rows x 7 columns]\n",
      "537 537\n",
      "231 231\n"
     ]
    }
   ],
   "source": [
    "X_train, X_test, y_train, y_test = train_test_split(X, y, test_size=0.3, random_state=1,stratify=y)\n",
    "print(X_train)\n",
    "print(len(X_train),len(y_train))\n",
    "print(len(X_test),len(y_test))"
   ]
  },
  {
   "cell_type": "code",
   "execution_count": 81,
   "metadata": {},
   "outputs": [
    {
     "name": "stderr",
     "output_type": "stream",
     "text": [
      "C:\\Users\\sharo\\Anaconda3\\lib\\site-packages\\sklearn\\utils\\deprecation.py:66: DeprecationWarning: Class Imputer is deprecated; Imputer was deprecated in version 0.20 and will be removed in 0.22. Import impute.SimpleImputer from sklearn instead.\n",
      "  warnings.warn(msg, category=DeprecationWarning)\n"
     ]
    }
   ],
   "source": [
    "#imputing NaNs with mean\n",
    "imp_x = Imputer(missing_values='NaN', strategy='mean', axis=0) \n",
    "X_train = imp_x.fit_transform(X_train)# # fit AND transform training set\n",
    "X_test = imp_x.transform(X_test) # transform test set on scale fitted to training set"
   ]
  },
  {
   "cell_type": "code",
   "execution_count": 82,
   "metadata": {
    "scrolled": true
   },
   "outputs": [
    {
     "name": "stdout",
     "output_type": "stream",
     "text": [
      "SVC(C=1.0, cache_size=1000, class_weight=None, coef0=0.0,\n",
      "    decision_function_shape='ovr', degree=3, gamma='auto_deprecated',\n",
      "    kernel='rbf', max_iter=-1, probability=True, random_state=None,\n",
      "    shrinking=True, tol=0.001, verbose=False)\n",
      "Prediction accuracy:  0.6493506493506493\n",
      "[[150   0]\n",
      " [ 81   0]]\n"
     ]
    },
    {
     "name": "stderr",
     "output_type": "stream",
     "text": [
      "C:\\Users\\sharo\\Anaconda3\\lib\\site-packages\\sklearn\\svm\\base.py:193: FutureWarning: The default value of gamma will change from 'auto' to 'scale' in version 0.22 to account better for unscaled features. Set gamma explicitly to 'auto' or 'scale' to avoid this warning.\n",
      "  \"avoid this warning.\", FutureWarning)\n"
     ]
    }
   ],
   "source": [
    "svc = SVC(kernel='rbf', cache_size=1000, probability=True) \n",
    "print (svc)\n",
    "clf = svc.fit(X_train,y_train) # trains the classifier on the training set\n",
    "y_pred = svc.predict(X_test) # tests the classifier on the test set\n",
    "pTot = accuracy_score(y_test, y_pred)\n",
    "print (\"Prediction accuracy: \", pTot)\n",
    "print (confusion_matrix(y_test, y_pred))"
   ]
  },
  {
   "cell_type": "code",
   "execution_count": 83,
   "metadata": {},
   "outputs": [
    {
     "data": {
      "text/plain": [
       "array([[0.        , 0.56493506, 0.45      , ..., 0.3907767 , 0.04794521,\n",
       "        0.01666667],\n",
       "       [0.        , 0.78571429, 0.75      , ..., 0.8276699 , 0.14683219,\n",
       "        0.03333333],\n",
       "       [0.41176471, 0.37662338, 0.55      , ..., 0.46116505, 0.05136986,\n",
       "        0.4       ],\n",
       "       ...,\n",
       "       [0.05882353, 0.83116883, 0.475     , ..., 0.58737864, 0.26455479,\n",
       "        0.11666667],\n",
       "       [0.29411765, 0.74025974, 0.675     , ..., 0.51456311, 0.13313356,\n",
       "        0.13333333],\n",
       "       [0.23529412, 0.69480519, 0.75      , ..., 0.27912621, 0.08989726,\n",
       "        0.25      ]])"
      ]
     },
     "execution_count": 83,
     "metadata": {},
     "output_type": "execute_result"
    }
   ],
   "source": [
    "#scaling\n",
    "min_max_scaler = MinMaxScaler()\n",
    "X_train_minmax = min_max_scaler.fit_transform(X_train)# fit AND transform training set\n",
    "X_test_minmax = min_max_scaler.transform(X_test)# test set transform only, no fit\n",
    "X_test_minmax "
   ]
  },
  {
   "cell_type": "code",
   "execution_count": 85,
   "metadata": {},
   "outputs": [
    {
     "name": "stdout",
     "output_type": "stream",
     "text": [
      "SVC(C=1.0, cache_size=1000, class_weight='balanced', coef0=0.0,\n",
      "    decision_function_shape='ovr', degree=3, gamma='auto_deprecated',\n",
      "    kernel='rbf', max_iter=-1, probability=True, random_state=None,\n",
      "    shrinking=True, tol=0.001, verbose=False)\n",
      "Prediction accuracy:  0.7272727272727273\n"
     ]
    },
    {
     "name": "stderr",
     "output_type": "stream",
     "text": [
      "C:\\Users\\sharo\\Anaconda3\\lib\\site-packages\\sklearn\\svm\\base.py:193: FutureWarning: The default value of gamma will change from 'auto' to 'scale' in version 0.22 to account better for unscaled features. Set gamma explicitly to 'auto' or 'scale' to avoid this warning.\n",
      "  \"avoid this warning.\", FutureWarning)\n"
     ]
    }
   ],
   "source": [
    "svc = SVC(kernel='rbf', class_weight='balanced', cache_size=1000, probability=True)  \n",
    "print (svc) \n",
    "clf = svc.fit(X_train_minmax, y_train) # trains the classifier on the training set\n",
    "y_pred_minmax = svc.predict(X_test_minmax) # tests the classifier on the test set\n",
    "pTot = accuracy_score(y_test, y_pred_minmax)\n",
    "print (\"Prediction accuracy: \",pTot)"
   ]
  },
  {
   "cell_type": "code",
   "execution_count": 86,
   "metadata": {},
   "outputs": [
    {
     "name": "stdout",
     "output_type": "stream",
     "text": [
      "[[117  33]\n",
      " [ 30  51]]\n",
      "              precision    recall  f1-score   support\n",
      "\n",
      "           0       0.80      0.78      0.79       150\n",
      "           1       0.61      0.63      0.62        81\n",
      "\n",
      "    accuracy                           0.73       231\n",
      "   macro avg       0.70      0.70      0.70       231\n",
      "weighted avg       0.73      0.73      0.73       231\n",
      "\n"
     ]
    }
   ],
   "source": [
    "cm = confusion_matrix(y_test, y_pred_minmax)\n",
    "print (cm)\n",
    "report = classification_report(y_test, y_pred_minmax)\n",
    "print (report) #for each class prints: precision  recall  f1-score   support"
   ]
  },
  {
   "cell_type": "code",
   "execution_count": 33,
   "metadata": {},
   "outputs": [
    {
     "name": "stdout",
     "output_type": "stream",
     "text": [
      "thresholds [1.95996437 0.95996437 0.92322121 0.92112638 0.83521465 0.83043936\n",
      " 0.75053315 0.7464388  0.74347359 0.73796357 0.72451346 0.71843816\n",
      " 0.70332821 0.68880227 0.66346535 0.66113079 0.66041438 0.65101495\n",
      " 0.58757164 0.57801753 0.57345798 0.54695181 0.5361274  0.52128776\n",
      " 0.51111219 0.5        0.49310977 0.48722888 0.48077763 0.47936971\n",
      " 0.47899509 0.46517105 0.46330252 0.45741757 0.42712761 0.40259562\n",
      " 0.39957665 0.3612028  0.36067038 0.35861345 0.35764849 0.34399068\n",
      " 0.33734153 0.33557355 0.33212698 0.32876139 0.32294063 0.32241038\n",
      " 0.28909101 0.28685554 0.2795268  0.27581451 0.27398544 0.27260221\n",
      " 0.26554273 0.2595989  0.25941124 0.24876451 0.24734087 0.22914808\n",
      " 0.22131268 0.21455865 0.21032368 0.18560698 0.18440509 0.18309291\n",
      " 0.18198079 0.16378305 0.15898309 0.1547086  0.14814776 0.13847087\n",
      " 0.13777286 0.13218053 0.1317029  0.1307835  0.12823674 0.09897622\n",
      " 0.09423708 0.04287698 0.04267321 0.01779659]\n",
      "probas_ [[0.81694716 0.18305284]\n",
      " [0.25225291 0.74774709]\n",
      " [0.67123861 0.32876139]\n",
      " [0.96819352 0.03180648]\n",
      " [0.60172521 0.39827479]\n",
      " [0.77282458 0.22717542]\n",
      " [0.07887362 0.92112638]\n",
      " [0.52063029 0.47936971]\n",
      " [0.57287239 0.42712761]\n",
      " [0.91249751 0.08750249]\n",
      " [0.84101691 0.15898309]\n",
      " [0.31747583 0.68252417]\n",
      " [0.95068899 0.04931101]\n",
      " [0.51320221 0.48679779]\n",
      " [0.96853136 0.03146864]\n",
      " [0.93841494 0.06158506]\n",
      " [0.85370296 0.14629704]\n",
      " [0.88627866 0.11372134]\n",
      " [0.68255723 0.31744277]\n",
      " [0.94563147 0.05436853]\n",
      " [0.52100491 0.47899509]\n",
      " [0.75552605 0.24447395]\n",
      " [0.66265847 0.33734153]\n",
      " [0.11587564 0.88412436]\n",
      " [0.25652641 0.74347359]\n",
      " [0.21240408 0.78759592]\n",
      " [0.51922237 0.48077763]\n",
      " [0.72418549 0.27581451]\n",
      " [0.39009853 0.60990147]\n",
      " [0.5794258  0.4205742 ]\n",
      " [0.28156184 0.71843816]\n",
      " [0.31119773 0.68880227]\n",
      " [0.35814654 0.64185346]\n",
      " [0.89314514 0.10685486]\n",
      " [0.9585181  0.0414819 ]\n",
      " [0.95283242 0.04716758]\n",
      " [0.27548654 0.72451346]\n",
      " [0.96047886 0.03952114]\n",
      " [0.6005427  0.3994573 ]\n",
      " [0.79209215 0.20790785]\n",
      " [0.90102378 0.09897622]\n",
      " [0.81439302 0.18560698]\n",
      " [0.4638726  0.5361274 ]\n",
      " [0.26203643 0.73796357]\n",
      " [0.6387972  0.3612028 ]\n",
      " [0.84351182 0.15648818]\n",
      " [0.33653465 0.66346535]\n",
      " [0.55422621 0.44577379]\n",
      " [0.16956064 0.83043936]\n",
      " [0.78660311 0.21339689]\n",
      " [0.11864765 0.88135235]\n",
      " [0.81957999 0.18042001]\n",
      " [0.42654202 0.57345798]\n",
      " [0.82715892 0.17284108]\n",
      " [0.80719296 0.19280704]\n",
      " [0.29304596 0.70695404]\n",
      " [0.87176326 0.12823674]\n",
      " [0.91118614 0.08881386]\n",
      " [0.81690709 0.18309291]\n",
      " [0.74835089 0.25164911]\n",
      " [0.16478535 0.83521465]\n",
      " [0.33648658 0.66351342]\n",
      " [0.71640304 0.28359696]\n",
      " [0.24946685 0.75053315]\n",
      " [0.71314446 0.28685554]\n",
      " [0.80041984 0.19958016]\n",
      " [0.87427215 0.12572785]\n",
      " [0.30437944 0.69562056]\n",
      " [0.88982731 0.11017269]\n",
      " [0.11138565 0.88861435]\n",
      " [0.65455311 0.34544689]\n",
      " [0.8452914  0.1547086 ]\n",
      " [0.64138655 0.35861345]\n",
      " [0.53482895 0.46517105]\n",
      " [0.74740487 0.25259513]\n",
      " [0.90576292 0.09423708]\n",
      " [0.83569864 0.16430136]\n",
      " [0.95333846 0.04666154]\n",
      " [0.96975703 0.03024297]\n",
      " [0.52027812 0.47972188]\n",
      " [0.97017961 0.02982039]\n",
      " [0.91432268 0.08567732]\n",
      " [0.88947306 0.11052694]\n",
      " [0.78544135 0.21455865]\n",
      " [0.74389444 0.25610556]\n",
      " [0.87797136 0.12202864]\n",
      " [0.34898505 0.65101495]\n",
      " [0.73708805 0.26291195]\n",
      " [0.10690182 0.89309818]\n",
      " [0.67758962 0.32241038]\n",
      " [0.66787302 0.33212698]\n",
      " [0.91214355 0.08785645]\n",
      " [0.86152913 0.13847087]\n",
      " [0.63932962 0.36067038]\n",
      " [0.44321929 0.55678071]\n",
      " [0.95641242 0.04358758]\n",
      " [0.7985256  0.2014744 ]\n",
      " [0.57743116 0.42256884]\n",
      " [0.71261622 0.28738378]\n",
      " [0.59740438 0.40259562]\n",
      " [0.26677109 0.73322891]\n",
      " [0.8692165  0.1307835 ]\n",
      " [0.67109542 0.32890458]\n",
      " [0.54258243 0.45741757]\n",
      " [0.95042472 0.04957528]\n",
      " [0.77868732 0.22131268]\n",
      " [0.92938215 0.07061785]\n",
      " [0.50689023 0.49310977]\n",
      " [0.91805386 0.08194614]\n",
      " [0.45304819 0.54695181]\n",
      " [0.91957747 0.08042253]\n",
      " [0.74252053 0.25747947]\n",
      " [0.87965897 0.12034103]\n",
      " [0.85857944 0.14142056]\n",
      " [0.94966468 0.05033532]\n",
      " [0.86222714 0.13777286]\n",
      " [0.3158103  0.6841897 ]\n",
      " [0.46566231 0.53433769]\n",
      " [0.94148496 0.05851504]\n",
      " [0.77085192 0.22914808]\n",
      " [0.07677879 0.92322121]\n",
      " [0.36232896 0.63767104]\n",
      " [0.47871224 0.52128776]\n",
      " [0.81733888 0.18266112]\n",
      " [0.21911027 0.78088973]\n",
      " [0.80392461 0.19607539]\n",
      " [0.98220341 0.01779659]\n",
      " [0.92557658 0.07442342]\n",
      " [0.96215807 0.03784193]\n",
      " [0.75123549 0.24876451]\n",
      " [0.48888781 0.51111219]\n",
      " [0.91587573 0.08412427]\n",
      " [0.95732679 0.04267321]\n",
      " [0.72472327 0.27527673]\n",
      " [0.28998779 0.71001221]\n",
      " [0.05456875 0.94543125]\n",
      " [0.92867897 0.07132103]\n",
      " [0.85542252 0.14457748]\n",
      " [0.80125546 0.19874454]\n",
      " [0.81801921 0.18198079]\n",
      " [0.7204732  0.2795268 ]\n",
      " [0.9251675  0.0748325 ]\n",
      " [0.92024825 0.07975175]\n",
      " [0.96727793 0.03272207]\n",
      " [0.82170435 0.17829565]\n",
      " [0.35524257 0.64475743]\n",
      " [0.73445727 0.26554273]\n",
      " [0.94948297 0.05051703]\n",
      " [0.91096838 0.08903162]\n",
      " [0.28698511 0.71301489]\n",
      " [0.2535612  0.7464388 ]\n",
      " [0.42198247 0.57801753]\n",
      " [0.78967632 0.21032368]\n",
      " [0.96394557 0.03605443]\n",
      " [0.90635154 0.09364846]\n",
      " [0.72601456 0.27398544]\n",
      " [0.59931964 0.40068036]\n",
      " [0.56092928 0.43907072]\n",
      " [0.96535258 0.03464742]\n",
      " [0.94185694 0.05814306]\n",
      " [0.93418862 0.06581138]\n",
      " [0.94736771 0.05263229]\n",
      " [0.53669748 0.46330252]\n",
      " [0.18468043 0.81531957]\n",
      " [0.64235151 0.35764849]\n",
      " [0.9743732  0.0256268 ]\n",
      " [0.41242836 0.58757164]\n",
      " [0.28284029 0.71715971]\n",
      " [0.93804888 0.06195112]\n",
      " [0.83621695 0.16378305]\n",
      " [0.9265183  0.0734817 ]\n",
      " [0.82124997 0.17875003]\n",
      " [0.91330432 0.08669568]\n",
      " [0.60042335 0.39957665]\n",
      " [0.75265913 0.24734087]\n",
      " [0.95712302 0.04287698]\n",
      " [0.33886921 0.66113079]\n",
      " [0.8924926  0.1075074 ]\n",
      " [0.37956793 0.62043207]\n",
      " [0.96824005 0.03175995]\n",
      " [0.85452726 0.14547274]\n",
      " [0.96257159 0.03742841]\n",
      " [0.65384024 0.34615976]\n",
      " [0.08505235 0.91494765]\n",
      " [0.93335129 0.06664871]\n",
      " [0.86781947 0.13218053]\n",
      " [0.49498324 0.50501676]\n",
      " [0.11452755 0.88547245]\n",
      " [0.94924097 0.05075903]\n",
      " [0.94818344 0.05181656]\n",
      " [0.81664469 0.18335531]\n",
      " [0.31485478 0.68514522]\n",
      " [0.96501062 0.03498938]\n",
      " [0.93993676 0.06006324]\n",
      " [0.93891154 0.06108846]\n",
      " [0.81559491 0.18440509]\n",
      " [0.89867923 0.10132077]\n",
      " [0.51277112 0.48722888]\n",
      " [0.72739779 0.27260221]\n",
      " [0.7404011  0.2595989 ]\n",
      " [0.91734546 0.08265454]\n",
      " [0.66442645 0.33557355]\n",
      " [0.65600932 0.34399068]\n",
      " [0.74058876 0.25941124]\n",
      " [0.61873198 0.38126802]\n",
      " [0.33958562 0.66041438]\n",
      " [0.92620868 0.07379132]\n",
      " [0.67705937 0.32294063]\n",
      " [0.8682971  0.1317029 ]\n",
      " [0.95795829 0.04204171]\n",
      " [0.06581849 0.93418151]\n",
      " [0.15646582 0.84353418]\n",
      " [0.94504594 0.05495406]\n",
      " [0.81975365 0.18024635]\n",
      " [0.71090899 0.28909101]\n",
      " [0.04003563 0.95996437]\n",
      " [0.85185224 0.14814776]\n",
      " [0.0532307  0.9467693 ]\n",
      " [0.46694154 0.53305846]\n",
      " [0.92423679 0.07576321]\n",
      " [0.88578815 0.11421185]\n",
      " [0.8567701  0.1432299 ]\n",
      " [0.52410866 0.47589134]\n",
      " [0.69703396 0.30296604]\n",
      " [0.65018363 0.34981637]\n",
      " [0.1741365  0.8258635 ]\n",
      " [0.2585126  0.7414874 ]\n",
      " [0.46790045 0.53209955]\n",
      " [0.21740208 0.78259792]\n",
      " [0.29667179 0.70332821]\n",
      " [0.5        0.5       ]]\n",
      "AUC using predict_proba 0.81119341563786\n"
     ]
    },
    {
     "name": "stderr",
     "output_type": "stream",
     "text": [
      "C:\\Users\\sharo\\Anaconda3\\lib\\site-packages\\sklearn\\svm\\base.py:193: FutureWarning: The default value of gamma will change from 'auto' to 'scale' in version 0.22 to account better for unscaled features. Set gamma explicitly to 'auto' or 'scale' to avoid this warning.\n",
      "  \"avoid this warning.\", FutureWarning)\n"
     ]
    }
   ],
   "source": [
    "probas_ = svc.fit(X_train_minmax, y_train).predict_proba(X_test_minmax)\n",
    "fpr, tpr, thresholds = roc_curve(y_test, probas_[:, 1])  # use the prob of class 1 \n",
    "roc_auc = auc(fpr, tpr)\n",
    "print (\"thresholds\", thresholds)\n",
    "print (\"probas_\", probas_)\n",
    "print (\"AUC using predict_proba\", roc_auc)"
   ]
  },
  {
   "cell_type": "code",
   "execution_count": 34,
   "metadata": {},
   "outputs": [],
   "source": [
    "%matplotlib inline"
   ]
  },
  {
   "cell_type": "code",
   "execution_count": 87,
   "metadata": {},
   "outputs": [
    {
     "data": {
      "image/png": "[encoded data removed]",
      "text/plain": [
       "<Figure size 432x288 with 1 Axes>"
      ]
     },
     "metadata": {
      "needs_background": "light"
     },
     "output_type": "display_data"
    }
   ],
   "source": [
    "plt.figure()\n",
    "#plt.plot(fpr, tpr, label='ROC curve (area = %0.2f)' % roc_auc, lw=4 ) # plot ROC curve, no marker\n",
    "plt.plot(fpr, tpr, label='ROC curve (area = %0.2f)' % roc_auc, lw=3, color =\"#0000ff\", marker='s',markerfacecolor=\"red\", markersize=2) \n",
    "plt.plot([0, 1], [0, 1], 'k--') # also plot black dashed line (k=black) from (0,0) to (1,1)\n",
    "\n",
    "# Set x and y ranges, labels, title and legend\n",
    "plt.xlim([-0.005, 1.0])  #x range basically from 0 to 1: start range a bit to left of min x value to see thick line better\n",
    "plt.ylim([0.0, 1.005])   #0 range basically from 0 to 1: extend range a bit above max y value to see thick line better\n",
    "plt.xlabel('False Positive Rate')\n",
    "plt.ylabel('True Positive Rate')\n",
    "plt.title('Receiver operating characteristic example')\n",
    "plt.legend(loc=\"lower right\")\n",
    "plt.show()"
   ]
  },
  {
   "cell_type": "code",
   "execution_count": 88,
   "metadata": {},
   "outputs": [
    {
     "name": "stdout",
     "output_type": "stream",
     "text": [
      "[0.01, 0.1, 1, 'auto', 10, 100]\n"
     ]
    },
    {
     "data": {
      "text/plain": [
       "{'gamma': [0.01, 0.1, 1, 'auto', 10, 100],\n",
       " 'C': array([1.e-02, 1.e-01, 1.e+00, 1.e+01, 1.e+02, 1.e+03])}"
      ]
     },
     "execution_count": 88,
     "metadata": {},
     "output_type": "execute_result"
    }
   ],
   "source": [
    "C_range = 10.0 ** np.arange(-2, 4)\n",
    "#gamma_range = 10.0 ** np.arange(-3, 3)\n",
    "gamma_range = [.01, .1, 1, 'auto', 10, 100]\n",
    "print (gamma_range)\n",
    "param_grid = dict(gamma=gamma_range, C=C_range)\n",
    "param_grid"
   ]
  },
  {
   "cell_type": "code",
   "execution_count": 89,
   "metadata": {},
   "outputs": [
    {
     "name": "stderr",
     "output_type": "stream",
     "text": [
      "C:\\Users\\sharo\\Anaconda3\\lib\\site-packages\\sklearn\\model_selection\\_split.py:1978: FutureWarning: The default value of cv will change from 3 to 5 in version 0.22. Specify it explicitly to silence this warning.\n",
      "  warnings.warn(CV_WARNING, FutureWarning)\n"
     ]
    },
    {
     "name": "stdout",
     "output_type": "stream",
     "text": [
      "The best C and gamma for rbf is: 100.00000, 0.10000 \n"
     ]
    },
    {
     "name": "stderr",
     "output_type": "stream",
     "text": [
      "C:\\Users\\sharo\\Anaconda3\\lib\\site-packages\\sklearn\\model_selection\\_search.py:814: DeprecationWarning: The default of the `iid` parameter will change from True to False in version 0.22 and will be removed in 0.24. This will change numeric results when test-set sizes are unequal.\n",
      "  DeprecationWarning)\n"
     ]
    },
    {
     "data": {
      "text/plain": [
       "SVC(C=100.0, cache_size=1000, class_weight=None, coef0=0.0,\n",
       "    decision_function_shape='ovr', degree=3, gamma=0.1, kernel='rbf',\n",
       "    max_iter=-1, probability=True, random_state=None, shrinking=True, tol=0.001,\n",
       "    verbose=False)"
      ]
     },
     "execution_count": 89,
     "metadata": {},
     "output_type": "execute_result"
    }
   ],
   "source": [
    "# Default is 3-fold cross validation\n",
    "grid = GridSearchCV(SVC(kernel='rbf',cache_size=1000, probability=True), param_grid=param_grid) \n",
    "#grid = GridSearchCV(SVC(kernel='rbf', class_weight='balanced', cache_size=1000, probability=True), param_grid=param_grid) \n",
    "grid.fit(X_train_minmax, y_train)# run the grid search on the training data only\n",
    "best_C = grid.best_estimator_.C\n",
    "best_gamma = grid.best_estimator_.gamma\n",
    "print (\"The best C and gamma for rbf is: %.5f, %.5f \" % (best_C, best_gamma))\n",
    "grid.best_estimator_"
   ]
  },
  {
   "cell_type": "code",
   "execution_count": 90,
   "metadata": {},
   "outputs": [
    {
     "name": "stdout",
     "output_type": "stream",
     "text": [
      "Prediction accuracy:  0.7445887445887446\n",
      "[[132  18]\n",
      " [ 41  40]]\n",
      "              precision    recall  f1-score   support\n",
      "\n",
      "           0       0.76      0.88      0.82       150\n",
      "           1       0.69      0.49      0.58        81\n",
      "\n",
      "    accuracy                           0.74       231\n",
      "   macro avg       0.73      0.69      0.70       231\n",
      "weighted avg       0.74      0.74      0.73       231\n",
      "\n"
     ]
    }
   ],
   "source": [
    "best_predict_minmax = grid.best_estimator_.predict(X_test_minmax)\n",
    "pTot = accuracy_score(y_test, best_predict_minmax)\n",
    "print (\"Prediction accuracy: \",pTot)\n",
    "cm = confusion_matrix(y_test, best_predict_minmax)\n",
    "print (cm)\n",
    "report = classification_report(y_test, best_predict_minmax)\n",
    "print (report) #for each class prints: precision  recall  f1-score   support"
   ]
  },
  {
   "cell_type": "code",
   "execution_count": 91,
   "metadata": {},
   "outputs": [
    {
     "name": "stdout",
     "output_type": "stream",
     "text": [
      "Prediction accuracy:  0.7575757575757576\n"
     ]
    }
   ],
   "source": [
    "test_svc = SVC(C=100, gamma='auto',kernel='rbf', cache_size=1000, probability=True) \n",
    "clf_test = test_svc.fit(X_train_minmax, y_train) # trains the classifier on the training set\n",
    "y_pred_minmax_test = test_svc.predict(X_test_minmax) # tests the classifier on the test set\n",
    "pTot = accuracy_score(y_test, y_pred_minmax_test)\n",
    "print (\"Prediction accuracy: \",pTot)"
   ]
  },
  {
   "cell_type": "code",
   "execution_count": 92,
   "metadata": {},
   "outputs": [
    {
     "name": "stdout",
     "output_type": "stream",
     "text": [
      "[[134  16]\n",
      " [ 40  41]]\n",
      "              precision    recall  f1-score   support\n",
      "\n",
      "           0       0.77      0.89      0.83       150\n",
      "           1       0.72      0.51      0.59        81\n",
      "\n",
      "    accuracy                           0.76       231\n",
      "   macro avg       0.74      0.70      0.71       231\n",
      "weighted avg       0.75      0.76      0.75       231\n",
      "\n"
     ]
    }
   ],
   "source": [
    "cm = confusion_matrix(y_test, y_pred_minmax_test)\n",
    "print (cm)\n",
    "report = classification_report(y_test, y_pred_minmax_test)\n",
    "print (report) #for each class prints: precision  recall  f1-score   support"
   ]
  },
  {
   "cell_type": "code",
   "execution_count": 93,
   "metadata": {},
   "outputs": [
    {
     "name": "stdout",
     "output_type": "stream",
     "text": [
      "AUC using predict_proba 0.8111522633744854\n"
     ]
    },
    {
     "name": "stderr",
     "output_type": "stream",
     "text": [
      "C:\\Users\\sharo\\Anaconda3\\lib\\site-packages\\sklearn\\svm\\base.py:193: FutureWarning: The default value of gamma will change from 'auto' to 'scale' in version 0.22 to account better for unscaled features. Set gamma explicitly to 'auto' or 'scale' to avoid this warning.\n",
      "  \"avoid this warning.\", FutureWarning)\n"
     ]
    },
    {
     "data": {
      "text/plain": [
       "array([[0.81157008, 0.18842992],\n",
       "       [0.26961552, 0.73038448],\n",
       "       [0.67158496, 0.32841504],\n",
       "       [0.96381689, 0.03618311],\n",
       "       [0.60569534, 0.39430466],\n",
       "       [0.76887649, 0.23112351],\n",
       "       [0.09102915, 0.90897085],\n",
       "       [0.5289009 , 0.4710991 ],\n",
       "       [0.57840218, 0.42159782],\n",
       "       [0.90616503, 0.09383497],\n",
       "       [0.83506937, 0.16493063],\n",
       "       [0.33381656, 0.66618344],\n",
       "       [0.94516833, 0.05483167],\n",
       "       [0.52184661, 0.47815339],\n",
       "       [0.96418169, 0.03581831],\n",
       "       [0.93539901, 0.06460099],\n",
       "       [0.84752857, 0.15247143],\n",
       "       [0.87980776, 0.12019224],\n",
       "       [0.68254903, 0.31745097],\n",
       "       [0.93985879, 0.06014121],\n",
       "       [0.52925655, 0.47074345],\n",
       "       [0.75224549, 0.24775451],\n",
       "       [0.66343157, 0.33656843],\n",
       "       [0.13057698, 0.86942302],\n",
       "       [0.27385691, 0.72614309],\n",
       "       [0.22979032, 0.77020968],\n",
       "       [0.52756417, 0.47243583],\n",
       "       [0.72223295, 0.27776705],\n",
       "       [0.404692  , 0.595308  ],\n",
       "       [0.5846021 , 0.4153979 ],\n",
       "       [0.29860081, 0.70139919],\n",
       "       [0.32768239, 0.67231761],\n",
       "       [0.3744502 , 0.6255498 ],\n",
       "       [0.88667349, 0.11332651],\n",
       "       [0.95345244, 0.04654756],\n",
       "       [0.94742815, 0.05257185],\n",
       "       [0.29261194, 0.70738806],\n",
       "       [0.9555407 , 0.0444593 ],\n",
       "       [0.60457672, 0.39542328],\n",
       "       [0.7874668 , 0.2125332 ],\n",
       "       [0.89458225, 0.10541775],\n",
       "       [0.80908612, 0.19091388],\n",
       "       [0.47490035, 0.52509965],\n",
       "       [0.27931772, 0.72068228],\n",
       "       [0.64079215, 0.35920785],\n",
       "       [0.83751534, 0.16248466],\n",
       "       [0.35238643, 0.64761357],\n",
       "       [0.56075332, 0.43924668],\n",
       "       [0.18632281, 0.81367719],\n",
       "       [0.78216297, 0.21783703],\n",
       "       [0.13349837, 0.86650163],\n",
       "       [0.8141324 , 0.1858676 ],\n",
       "       [0.43933174, 0.56066826],\n",
       "       [0.82151904, 0.17848096],\n",
       "       [0.80209296, 0.19790704],\n",
       "       [0.30989557, 0.69010443],\n",
       "       [0.86536876, 0.13463124],\n",
       "       [0.904837  , 0.095163  ],\n",
       "       [0.8115311 , 0.1884689 ],\n",
       "       [0.74536182, 0.25463818],\n",
       "       [0.18142822, 0.81857178],\n",
       "       [0.35233969, 0.64766031],\n",
       "       [0.71480032, 0.28519968],\n",
       "       [0.26684748, 0.73315252],\n",
       "       [0.71169028, 0.28830972],\n",
       "       [0.79552617, 0.20447383],\n",
       "       [0.86785761, 0.13214239],\n",
       "       [0.32101028, 0.67898972],\n",
       "       [0.88335301, 0.11664699],\n",
       "       [0.12583375, 0.87416625],\n",
       "       [0.65573569, 0.34426431],\n",
       "       [0.83926127, 0.16073873],\n",
       "       [0.64324661, 0.35675339],\n",
       "       [0.54237278, 0.45762722],\n",
       "       [0.74445482, 0.25554518],\n",
       "       [0.8993566 , 0.1006434 ],\n",
       "       [0.82986216, 0.17013784],\n",
       "       [0.94796255, 0.05203745],\n",
       "       [0.96550699, 0.03449301],\n",
       "       [0.52856655, 0.47143345],\n",
       "       [0.96596458, 0.03403542],\n",
       "       [0.90801528, 0.09198472],\n",
       "       [0.88299881, 0.11700119],\n",
       "       [0.78104123, 0.21895877],\n",
       "       [0.74109038, 0.25890962],\n",
       "       [0.87153236, 0.12846764],\n",
       "       [0.36148179, 0.63851821],\n",
       "       [0.73457212, 0.26542788],\n",
       "       [0.12108276, 0.87891724],\n",
       "       [0.67782391, 0.32217609],\n",
       "       [0.66838593, 0.33161407],\n",
       "       [0.90580646, 0.09419354],\n",
       "       [0.85524362, 0.14475638],\n",
       "       [0.64129679, 0.35870321],\n",
       "       [0.45521808, 0.54478192],\n",
       "       [0.95121611, 0.04878389],\n",
       "       [0.79369158, 0.20630842],\n",
       "       [0.58271516, 0.41728484],\n",
       "       [0.71118623, 0.28881377],\n",
       "       [0.60160807, 0.39839193],\n",
       "       [0.28400319, 0.71599681],\n",
       "       [0.86284509, 0.13715491],\n",
       "       [0.67144883, 0.32855117],\n",
       "       [0.54972292, 0.45027708],\n",
       "       [0.94489012, 0.05510988],\n",
       "       [0.77452529, 0.22547471],\n",
       "       [0.92337303, 0.07662697],\n",
       "       [0.51584877, 0.48415123],\n",
       "       [0.91180481, 0.08819519],\n",
       "       [0.46458482, 0.53541518],\n",
       "       [0.91335506, 0.08664494],\n",
       "       [0.7397741 , 0.2602259 ],\n",
       "       [0.87321087, 0.12678913],\n",
       "       [0.85233309, 0.14766691],\n",
       "       [0.94409046, 0.05590954],\n",
       "       [0.85593285, 0.14406715],\n",
       "       [0.33219007, 0.66780993],\n",
       "       [0.47660574, 0.52339426],\n",
       "       [0.93836493, 0.06163507],\n",
       "       [0.76697728, 0.23302272],\n",
       "       [0.08875579, 0.91124421],\n",
       "       [0.37840163, 0.62159837],\n",
       "       [0.48903766, 0.51096234],\n",
       "       [0.81195119, 0.18804881],\n",
       "       [0.23652955, 0.76347045],\n",
       "       [0.7989228 , 0.2010772 ],\n",
       "       [0.97915475, 0.02084525],\n",
       "       [0.91947578, 0.08052422],\n",
       "       [0.95733378, 0.04266622],\n",
       "       [0.74812826, 0.25187174],\n",
       "       [0.5       , 0.5       ],\n",
       "       [0.90959144, 0.09040856],\n",
       "       [0.95218644, 0.04781356],\n",
       "       [0.72274683, 0.27725317],\n",
       "       [0.30689107, 0.69310893],\n",
       "       [0.06437175, 0.93562825],\n",
       "       [0.92265201, 0.07734799],\n",
       "       [0.84922175, 0.15077825],\n",
       "       [0.79633574, 0.20366426],\n",
       "       [0.81261319, 0.18738681],\n",
       "       [0.71868664, 0.28131336],\n",
       "       [0.91905753, 0.08094247],\n",
       "       [0.91403811, 0.08596189],\n",
       "       [0.96282929, 0.03717071],\n",
       "       [0.81620123, 0.18379877],\n",
       "       [0.37170776, 0.62829224],\n",
       "       [0.73205445, 0.26794555],\n",
       "       [0.94389939, 0.05610061],\n",
       "       [0.90461658, 0.09538342],\n",
       "       [0.30393881, 0.69606119],\n",
       "       [0.27091455, 0.72908545],\n",
       "       [0.43499112, 0.56500888],\n",
       "       [0.78513169, 0.21486831],\n",
       "       [0.95924741, 0.04075259],\n",
       "       [0.89995054, 0.10004946],\n",
       "       [0.72398087, 0.27601913],\n",
       "       [0.60341977, 0.39658023],\n",
       "       [0.56709968, 0.43290032],\n",
       "       [0.96075744, 0.03924256],\n",
       "       [0.9387252 , 0.0612748 ],\n",
       "       [0.92831258, 0.07168742],\n",
       "       [0.94167809, 0.05832191],\n",
       "       [0.54414451, 0.45585549],\n",
       "       [0.20175043, 0.79824957],\n",
       "       [0.64416143, 0.35583857],\n",
       "       [0.97052559, 0.02947441],\n",
       "       [0.42590104, 0.57409896],\n",
       "       [0.29985984, 0.70014016],\n",
       "       [0.93504622, 0.06495378],\n",
       "       [0.83036925, 0.16963075],\n",
       "       [0.9204391 , 0.0795609 ],\n",
       "       [0.81575863, 0.18424137],\n",
       "       [0.90698265, 0.09301735],\n",
       "       [0.60446382, 0.39553618],\n",
       "       [0.74949406, 0.25050594],\n",
       "       [0.95197009, 0.04802991],\n",
       "       [0.35465594, 0.64534406],\n",
       "       [0.88601998, 0.11398002],\n",
       "       [0.39471079, 0.60528921],\n",
       "       [0.96386712, 0.03613288],\n",
       "       [0.8483401 , 0.1516599 ],\n",
       "       [0.95777601, 0.04222399],\n",
       "       [0.65505911, 0.34494089],\n",
       "       [0.09771095, 0.90228905],\n",
       "       [0.92745062, 0.07254938],\n",
       "       [0.86146187, 0.13853813],\n",
       "       [0.5       , 0.5       ],\n",
       "       [0.12915434, 0.87084566],\n",
       "       [0.94364498, 0.05635502],\n",
       "       [0.94253406, 0.05746594],\n",
       "       [0.81127583, 0.18872417],\n",
       "       [0.33125667, 0.66874333],\n",
       "       [0.96039013, 0.03960987],\n",
       "       [0.93686761, 0.06313239],\n",
       "       [0.93318643, 0.06681357],\n",
       "       [0.81025477, 0.18974523],\n",
       "       [0.89222513, 0.10777487],\n",
       "       [0.52143708, 0.47856292],\n",
       "       [0.72530299, 0.27469701],\n",
       "       [0.7377441 , 0.2622559 ],\n",
       "       [0.91108458, 0.08891542],\n",
       "       [0.66511104, 0.33488896],\n",
       "       [0.65711789, 0.34288211],\n",
       "       [0.73792382, 0.26207618],\n",
       "       [0.62178766, 0.37821234],\n",
       "       [0.35535218, 0.64464782],\n",
       "       [0.92012229, 0.07987771],\n",
       "       [0.67731965, 0.32268035],\n",
       "       [0.86193469, 0.13806531],\n",
       "       [0.95285728, 0.04714272],\n",
       "       [0.07679062, 0.92320938],\n",
       "       [0.17287376, 0.82712624],\n",
       "       [0.93924605, 0.06075395],\n",
       "       [0.81430147, 0.18569853],\n",
       "       [0.70955737, 0.29044263],\n",
       "       [0.0480765 , 0.9519235 ],\n",
       "       [0.84570745, 0.15429255],\n",
       "       [0.06288422, 0.93711578],\n",
       "       [0.47782466, 0.52217534],\n",
       "       [0.91810645, 0.08189355],\n",
       "       [0.87931821, 0.12068179],\n",
       "       [0.85054942, 0.14945058],\n",
       "       [0.5322027 , 0.4677973 ],\n",
       "       [0.69633053, 0.30366947],\n",
       "       [0.65158941, 0.34841059],\n",
       "       [0.19100281, 0.80899719],\n",
       "       [0.27582637, 0.72417363],\n",
       "       [0.47873833, 0.52126167],\n",
       "       [0.23481445, 0.76518555],\n",
       "       [0.31345478, 0.68654522],\n",
       "       [0.51052233, 0.48947767]])"
      ]
     },
     "execution_count": 93,
     "metadata": {},
     "output_type": "execute_result"
    }
   ],
   "source": [
    "probas_ = svc.fit(X_train_minmax, y_train).predict_proba(X_test_minmax)\n",
    "fpr, tpr, thresholds = roc_curve(y_test, probas_[:, 1])  # use the probs of class 1\n",
    "roc_auc = auc(fpr, tpr)\n",
    "print (\"AUC using predict_proba\", roc_auc)\n",
    "probas_"
   ]
  },
  {
   "cell_type": "code",
   "execution_count": 94,
   "metadata": {},
   "outputs": [
    {
     "name": "stdout",
     "output_type": "stream",
     "text": [
      "SVC(C=1.0, cache_size=1000, class_weight=None, coef0=0.0,\n",
      "    decision_function_shape='ovr', degree=1, gamma='auto_deprecated',\n",
      "    kernel='poly', max_iter=-1, probability=False, random_state=None,\n",
      "    shrinking=True, tol=0.001, verbose=False)\n",
      "Prediction accuracy:  0.7489177489177489\n",
      "[[132  18]\n",
      " [ 40  41]]\n"
     ]
    },
    {
     "name": "stderr",
     "output_type": "stream",
     "text": [
      "C:\\Users\\sharo\\Anaconda3\\lib\\site-packages\\sklearn\\svm\\base.py:193: FutureWarning: The default value of gamma will change from 'auto' to 'scale' in version 0.22 to account better for unscaled features. Set gamma explicitly to 'auto' or 'scale' to avoid this warning.\n",
      "  \"avoid this warning.\", FutureWarning)\n"
     ]
    }
   ],
   "source": [
    "#poly kernel degree 1 \n",
    "svc2 = SVC(kernel='poly', cache_size=1000, degree = 1) \n",
    "print (svc2)\n",
    "clf = svc2.fit(X_train,y_train) # trains the classifier on the training set\n",
    "y_pred = svc2.predict(X_test) # tests the classifier on the test set\n",
    "pTot = accuracy_score(y_test, y_pred)\n",
    "print (\"Prediction accuracy: \", pTot)\n",
    "print (confusion_matrix(y_test, y_pred))"
   ]
  },
  {
   "cell_type": "code",
   "execution_count": 101,
   "metadata": {},
   "outputs": [
    {
     "name": "stdout",
     "output_type": "stream",
     "text": [
      "SVC(C=1.0, cache_size=1000, class_weight='balanced', coef0=0.0,\n",
      "    decision_function_shape='ovr', degree=1, gamma='auto_deprecated',\n",
      "    kernel='poly', max_iter=-1, probability=True, random_state=None,\n",
      "    shrinking=True, tol=0.001, verbose=False)\n",
      "Prediction accuracy:  0.7316017316017316\n"
     ]
    },
    {
     "name": "stderr",
     "output_type": "stream",
     "text": [
      "C:\\Users\\sharo\\Anaconda3\\lib\\site-packages\\sklearn\\svm\\base.py:193: FutureWarning: The default value of gamma will change from 'auto' to 'scale' in version 0.22 to account better for unscaled features. Set gamma explicitly to 'auto' or 'scale' to avoid this warning.\n",
      "  \"avoid this warning.\", FutureWarning)\n"
     ]
    }
   ],
   "source": [
    "#use scaled data\n",
    "svc2 = SVC(kernel='poly', class_weight='balanced', cache_size=1000, degree = 1, probability = False) \n",
    "print (svc2) # calls SVC __str__ to view all the attibutes, including the default params you used\n",
    "clf = svc2.fit(X_train_minmax, y_train) # trains the classifier on the training set\n",
    "y_pred_minmax = svc2.predict(X_test_minmax) # tests the classifier on the test set\n",
    "pTot = accuracy_score(y_test, y_pred_minmax)\n",
    "print (\"Prediction accuracy: \",pTot)"
   ]
  },
  {
   "cell_type": "code",
   "execution_count": 102,
   "metadata": {},
   "outputs": [
    {
     "name": "stdout",
     "output_type": "stream",
     "text": [
      "[[117  33]\n",
      " [ 29  52]]\n",
      "              precision    recall  f1-score   support\n",
      "\n",
      "           0       0.80      0.78      0.79       150\n",
      "           1       0.61      0.64      0.63        81\n",
      "\n",
      "    accuracy                           0.73       231\n",
      "   macro avg       0.71      0.71      0.71       231\n",
      "weighted avg       0.73      0.73      0.73       231\n",
      "\n"
     ]
    }
   ],
   "source": [
    "cm_poly = confusion_matrix(y_test, y_pred_minmax)\n",
    "print (cm_poly)\n",
    "report_poly = classification_report(y_test, y_pred_minmax)\n",
    "print (report_poly) #for each class prints: precision  recall  f1-score   support"
   ]
  },
  {
   "cell_type": "code",
   "execution_count": 111,
   "metadata": {},
   "outputs": [
    {
     "name": "stderr",
     "output_type": "stream",
     "text": [
      "C:\\Users\\sharo\\Anaconda3\\lib\\site-packages\\sklearn\\model_selection\\_split.py:1978: FutureWarning: The default value of cv will change from 3 to 5 in version 0.22. Specify it explicitly to silence this warning.\n",
      "  warnings.warn(CV_WARNING, FutureWarning)\n"
     ]
    },
    {
     "name": "stdout",
     "output_type": "stream",
     "text": [
      "The best C for poly is: 0.01000\n"
     ]
    },
    {
     "data": {
      "text/plain": [
       "SVC(C=0.01, cache_size=1000, class_weight=None, coef0=0.0,\n",
       "    decision_function_shape='ovr', degree=1, gamma=100, kernel='poly',\n",
       "    max_iter=-1, probability=False, random_state=None, shrinking=True,\n",
       "    tol=0.001, verbose=False)"
      ]
     },
     "execution_count": 111,
     "metadata": {},
     "output_type": "execute_result"
    }
   ],
   "source": [
    "# Default is 3-fold cross validation\n",
    "grid = GridSearchCV(SVC(kernel='poly',cache_size=1000, probability=False, degree = 1), param_grid=param_grid) \n",
    "grid.fit(X_train_minmax, y_train)# run the grid search on the training data only\n",
    "best_C = grid.best_estimator_.C\n",
    "print (\"The best C for poly is: %.5f\" % (best_C))\n",
    "grid.best_estimator_"
   ]
  },
  {
   "cell_type": "code",
   "execution_count": 112,
   "metadata": {},
   "outputs": [
    {
     "name": "stdout",
     "output_type": "stream",
     "text": [
      "Prediction accuracy:  0.7619047619047619\n",
      "[[135  15]\n",
      " [ 40  41]]\n",
      "              precision    recall  f1-score   support\n",
      "\n",
      "           0       0.77      0.90      0.83       150\n",
      "           1       0.73      0.51      0.60        81\n",
      "\n",
      "    accuracy                           0.76       231\n",
      "   macro avg       0.75      0.70      0.71       231\n",
      "weighted avg       0.76      0.76      0.75       231\n",
      "\n"
     ]
    }
   ],
   "source": [
    "best_predict_minmax = grid.best_estimator_.predict(X_test_minmax)\n",
    "pTot = accuracy_score(y_test, best_predict_minmax)\n",
    "print (\"Prediction accuracy: \",pTot)\n",
    "cm = confusion_matrix(y_test, best_predict_minmax)\n",
    "print (cm)\n",
    "report = classification_report(y_test, best_predict_minmax)\n",
    "print (report) #for each class prints: precision  recall  f1-score   support"
   ]
  },
  {
   "cell_type": "code",
   "execution_count": 113,
   "metadata": {},
   "outputs": [
    {
     "name": "stdout",
     "output_type": "stream",
     "text": [
      "Prediction accuracy:  0.6493506493506493\n"
     ]
    },
    {
     "name": "stderr",
     "output_type": "stream",
     "text": [
      "C:\\Users\\sharo\\Anaconda3\\lib\\site-packages\\sklearn\\svm\\base.py:193: FutureWarning: The default value of gamma will change from 'auto' to 'scale' in version 0.22 to account better for unscaled features. Set gamma explicitly to 'auto' or 'scale' to avoid this warning.\n",
      "  \"avoid this warning.\", FutureWarning)\n"
     ]
    }
   ],
   "source": [
    "test_svc = SVC(C=0.01, kernel='poly', cache_size=1000, probability=False) \n",
    "clf_test = test_svc.fit(X_train_minmax, y_train) # trains the classifier on the training set\n",
    "y_pred_minmax_test = test_svc.predict(X_test_minmax) # tests the classifier on the test set\n",
    "pTot = accuracy_score(y_test, y_pred_minmax_test)\n",
    "print (\"Prediction accuracy: \",pTot)"
   ]
  },
  {
   "cell_type": "code",
   "execution_count": 114,
   "metadata": {},
   "outputs": [
    {
     "name": "stdout",
     "output_type": "stream",
     "text": [
      "[[150   0]\n",
      " [ 81   0]]\n",
      "              precision    recall  f1-score   support\n",
      "\n",
      "           0       0.65      1.00      0.79       150\n",
      "           1       0.00      0.00      0.00        81\n",
      "\n",
      "    accuracy                           0.65       231\n",
      "   macro avg       0.32      0.50      0.39       231\n",
      "weighted avg       0.42      0.65      0.51       231\n",
      "\n"
     ]
    },
    {
     "name": "stderr",
     "output_type": "stream",
     "text": [
      "C:\\Users\\sharo\\Anaconda3\\lib\\site-packages\\sklearn\\metrics\\classification.py:1437: UndefinedMetricWarning: Precision and F-score are ill-defined and being set to 0.0 in labels with no predicted samples.\n",
      "  'precision', 'predicted', average, warn_for)\n"
     ]
    }
   ],
   "source": [
    "cm = confusion_matrix(y_test, y_pred_minmax_test)\n",
    "print (cm)\n",
    "report = classification_report(y_test, y_pred_minmax_test)\n",
    "print (report) #for each class prints: precision  recall  f1-score   support"
   ]
  },
  {
   "cell_type": "code",
   "execution_count": 96,
   "metadata": {
    "scrolled": false
   },
   "outputs": [
    {
     "name": "stdout",
     "output_type": "stream",
     "text": [
      "SVC(C=1.0, cache_size=1000, class_weight=None, coef0=0.0,\n",
      "    decision_function_shape='ovr', degree=2, gamma='auto_deprecated',\n",
      "    kernel='poly', max_iter=-1, probability=False, random_state=None,\n",
      "    shrinking=True, tol=0.001, verbose=False)\n"
     ]
    },
    {
     "name": "stderr",
     "output_type": "stream",
     "text": [
      "C:\\Users\\sharo\\Anaconda3\\lib\\site-packages\\sklearn\\svm\\base.py:193: FutureWarning: The default value of gamma will change from 'auto' to 'scale' in version 0.22 to account better for unscaled features. Set gamma explicitly to 'auto' or 'scale' to avoid this warning.\n",
      "  \"avoid this warning.\", FutureWarning)\n"
     ]
    },
    {
     "name": "stdout",
     "output_type": "stream",
     "text": [
      "Prediction accuracy:  0.7316017316017316\n",
      "[[123  27]\n",
      " [ 35  46]]\n"
     ]
    }
   ],
   "source": [
    "#poly degree 2 \n",
    "svc2 = SVC(kernel='poly', cache_size=1000, degree = 2) \n",
    "print (svc2)\n",
    "clf = svc2.fit(X_train,y_train) # trains the classifier on the training set\n",
    "y_pred = svc2.predict(X_test) # tests the classifier on the test set\n",
    "pTot = accuracy_score(y_test, y_pred)\n",
    "print (\"Prediction accuracy: \", pTot)\n",
    "print (confusion_matrix(y_test, y_pred))"
   ]
  },
  {
   "cell_type": "code",
   "execution_count": 117,
   "metadata": {},
   "outputs": [
    {
     "name": "stdout",
     "output_type": "stream",
     "text": [
      "SVC(C=1.0, cache_size=1000, class_weight='balanced', coef0=0.0,\n",
      "    decision_function_shape='ovr', degree=2, gamma='auto_deprecated',\n",
      "    kernel='poly', max_iter=-1, probability=False, random_state=None,\n",
      "    shrinking=True, tol=0.001, verbose=False)\n",
      "Prediction accuracy:  0.7186147186147186\n"
     ]
    },
    {
     "name": "stderr",
     "output_type": "stream",
     "text": [
      "C:\\Users\\sharo\\Anaconda3\\lib\\site-packages\\sklearn\\svm\\base.py:193: FutureWarning: The default value of gamma will change from 'auto' to 'scale' in version 0.22 to account better for unscaled features. Set gamma explicitly to 'auto' or 'scale' to avoid this warning.\n",
      "  \"avoid this warning.\", FutureWarning)\n"
     ]
    }
   ],
   "source": [
    "#use scaled data\n",
    "svc2 = SVC(kernel='poly', class_weight='balanced', cache_size=1000, degree = 2, probability = False) \n",
    "print (svc2) # calls SVC __str__ to view all the attibutes, including the default params you used\n",
    "clf = svc2.fit(X_train_minmax, y_train) # trains the classifier on the training set\n",
    "y_pred_minmax = svc2.predict(X_test_minmax) # tests the classifier on the test set\n",
    "pTot = accuracy_score(y_test, y_pred_minmax)\n",
    "print (\"Prediction accuracy: \",pTot)"
   ]
  },
  {
   "cell_type": "code",
   "execution_count": 118,
   "metadata": {},
   "outputs": [
    {
     "name": "stdout",
     "output_type": "stream",
     "text": [
      "[[120  30]\n",
      " [ 35  46]]\n",
      "              precision    recall  f1-score   support\n",
      "\n",
      "           0       0.77      0.80      0.79       150\n",
      "           1       0.61      0.57      0.59        81\n",
      "\n",
      "    accuracy                           0.72       231\n",
      "   macro avg       0.69      0.68      0.69       231\n",
      "weighted avg       0.71      0.72      0.72       231\n",
      "\n"
     ]
    }
   ],
   "source": [
    "cm_poly = confusion_matrix(y_test, y_pred_minmax)\n",
    "print (cm_poly)\n",
    "report_poly = classification_report(y_test, y_pred_minmax)\n",
    "print (report_poly) #for each class prints: precision  recall  f1-score   support"
   ]
  },
  {
   "cell_type": "code",
   "execution_count": 116,
   "metadata": {},
   "outputs": [
    {
     "name": "stderr",
     "output_type": "stream",
     "text": [
      "C:\\Users\\sharo\\Anaconda3\\lib\\site-packages\\sklearn\\model_selection\\_split.py:1978: FutureWarning: The default value of cv will change from 3 to 5 in version 0.22. Specify it explicitly to silence this warning.\n",
      "  warnings.warn(CV_WARNING, FutureWarning)\n"
     ]
    },
    {
     "name": "stdout",
     "output_type": "stream",
     "text": [
      "The best C for poly is: 1000.00000\n"
     ]
    },
    {
     "data": {
      "text/plain": [
       "SVC(C=1000.0, cache_size=1000, class_weight=None, coef0=0.0,\n",
       "    decision_function_shape='ovr', degree=2, gamma='auto', kernel='poly',\n",
       "    max_iter=-1, probability=False, random_state=None, shrinking=True,\n",
       "    tol=0.001, verbose=False)"
      ]
     },
     "execution_count": 116,
     "metadata": {},
     "output_type": "execute_result"
    }
   ],
   "source": [
    "grid = GridSearchCV(SVC(kernel='poly',cache_size=1000, probability=False, degree = 2), param_grid=param_grid) \n",
    "grid.fit(X_train_minmax, y_train)# run the grid search on the training data only\n",
    "best_C = grid.best_estimator_.C\n",
    "print (\"The best C for poly is: %.5f\" % (best_C))\n",
    "grid.best_estimator_"
   ]
  },
  {
   "cell_type": "code",
   "execution_count": 126,
   "metadata": {},
   "outputs": [
    {
     "name": "stdout",
     "output_type": "stream",
     "text": [
      "Prediction accuracy:  0.7532467532467533\n",
      "[[135  15]\n",
      " [ 42  39]]\n",
      "              precision    recall  f1-score   support\n",
      "\n",
      "           0       0.76      0.90      0.83       150\n",
      "           1       0.72      0.48      0.58        81\n",
      "\n",
      "    accuracy                           0.75       231\n",
      "   macro avg       0.74      0.69      0.70       231\n",
      "weighted avg       0.75      0.75      0.74       231\n",
      "\n"
     ]
    }
   ],
   "source": [
    "best_predict_minmax = grid.best_estimator_.predict(X_test_minmax)\n",
    "pTot = accuracy_score(y_test, best_predict_minmax)\n",
    "print (\"Prediction accuracy: \",pTot)\n",
    "cm = confusion_matrix(y_test, best_predict_minmax)\n",
    "print (cm)\n",
    "report = classification_report(y_test, best_predict_minmax)\n",
    "print (report) #for each class prints: precision  recall  f1-score   support"
   ]
  },
  {
   "cell_type": "code",
   "execution_count": 127,
   "metadata": {},
   "outputs": [
    {
     "name": "stdout",
     "output_type": "stream",
     "text": [
      "Prediction accuracy:  0.7575757575757576\n"
     ]
    },
    {
     "name": "stderr",
     "output_type": "stream",
     "text": [
      "C:\\Users\\sharo\\Anaconda3\\lib\\site-packages\\sklearn\\svm\\base.py:193: FutureWarning: The default value of gamma will change from 'auto' to 'scale' in version 0.22 to account better for unscaled features. Set gamma explicitly to 'auto' or 'scale' to avoid this warning.\n",
      "  \"avoid this warning.\", FutureWarning)\n"
     ]
    }
   ],
   "source": [
    "test_svc = SVC(C=1000, kernel='poly', cache_size=1000, probability=False) \n",
    "clf_test = test_svc.fit(X_train_minmax, y_train) # trains the classifier on the training set\n",
    "y_pred_minmax_test = test_svc.predict(X_test_minmax) # tests the classifier on the test set\n",
    "pTot = accuracy_score(y_test, y_pred_minmax_test)\n",
    "print (\"Prediction accuracy: \",pTot)"
   ]
  },
  {
   "cell_type": "code",
   "execution_count": 128,
   "metadata": {},
   "outputs": [
    {
     "name": "stdout",
     "output_type": "stream",
     "text": [
      "[[138  12]\n",
      " [ 44  37]]\n",
      "              precision    recall  f1-score   support\n",
      "\n",
      "           0       0.76      0.92      0.83       150\n",
      "           1       0.76      0.46      0.57        81\n",
      "\n",
      "    accuracy                           0.76       231\n",
      "   macro avg       0.76      0.69      0.70       231\n",
      "weighted avg       0.76      0.76      0.74       231\n",
      "\n"
     ]
    }
   ],
   "source": [
    "cm = confusion_matrix(y_test, y_pred_minmax_test)\n",
    "print (cm)\n",
    "report = classification_report(y_test, y_pred_minmax_test)\n",
    "print (report) #for each class prints: precision  recall  f1-score   support"
   ]
  },
  {
   "cell_type": "code",
   "execution_count": null,
   "metadata": {},
   "outputs": [],
   "source": []
  }
 ],
 "metadata": {
  "kernelspec": {
   "display_name": "Python 3",
   "language": "python",
   "name": "python3"
  },
  "language_info": {
   "codemirror_mode": {
    "name": "ipython",
    "version": 3
   },
   "file_extension": ".py",
   "mimetype": "text/x-python",
   "name": "python",
   "nbconvert_exporter": "python",
   "pygments_lexer": "ipython3",
   "version": "3.7.4"
  }
 },
 "nbformat": 4,
 "nbformat_minor": 2
}
